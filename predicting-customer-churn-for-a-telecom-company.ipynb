{
 "cells": [
  {
   "cell_type": "markdown",
   "metadata": {
    "papermill": {
     "duration": 0.031839,
     "end_time": "2021-02-02T18:17:36.027066",
     "exception": false,
     "start_time": "2021-02-02T18:17:35.995227",
     "status": "completed"
    },
    "tags": []
   },
   "source": [
    "## Develop a Deep Learning Based Churn Prediction Engine\n"
   ]
  },
  {
   "cell_type": "markdown",
   "metadata": {
    "papermill": {
     "duration": 0.029288,
     "end_time": "2021-02-02T18:17:36.086109",
     "exception": false,
     "start_time": "2021-02-02T18:17:36.056821",
     "status": "completed"
    },
    "tags": []
   },
   "source": [
    "### Import required libraries"
   ]
  },
  {
   "cell_type": "code",
   "execution_count": 1,
   "metadata": {
    "execution": {
     "iopub.execute_input": "2021-02-02T18:17:36.152540Z",
     "iopub.status.busy": "2021-02-02T18:17:36.151879Z",
     "iopub.status.idle": "2021-02-02T18:17:36.154797Z",
     "shell.execute_reply": "2021-02-02T18:17:36.154062Z"
    },
    "papermill": {
     "duration": 0.038018,
     "end_time": "2021-02-02T18:17:36.155004",
     "exception": false,
     "start_time": "2021-02-02T18:17:36.116986",
     "status": "completed"
    },
    "tags": []
   },
   "outputs": [],
   "source": [
    "import pandas as pd\n",
    "import numpy as np\n",
    "import os\n",
    "import warnings\n",
    "warnings.filterwarnings('ignore')"
   ]
  },
  {
   "cell_type": "markdown",
   "metadata": {
    "papermill": {
     "duration": 0.02927,
     "end_time": "2021-02-02T18:17:36.214181",
     "exception": false,
     "start_time": "2021-02-02T18:17:36.184911",
     "status": "completed"
    },
    "tags": []
   },
   "source": [
    "#### Load & understand the data "
   ]
  },
  {
   "cell_type": "code",
   "execution_count": 2,
   "metadata": {
    "execution": {
     "iopub.execute_input": "2021-02-02T18:17:36.276681Z",
     "iopub.status.busy": "2021-02-02T18:17:36.276038Z",
     "iopub.status.idle": "2021-02-02T18:17:36.400825Z",
     "shell.execute_reply": "2021-02-02T18:17:36.400130Z"
    },
    "papermill": {
     "duration": 0.157015,
     "end_time": "2021-02-02T18:17:36.400971",
     "exception": false,
     "start_time": "2021-02-02T18:17:36.243956",
     "status": "completed"
    },
    "tags": []
   },
   "outputs": [
    {
     "data": {
      "text/html": [
       "<div>\n",
       "<style scoped>\n",
       "    .dataframe tbody tr th:only-of-type {\n",
       "        vertical-align: middle;\n",
       "    }\n",
       "\n",
       "    .dataframe tbody tr th {\n",
       "        vertical-align: top;\n",
       "    }\n",
       "\n",
       "    .dataframe thead th {\n",
       "        text-align: right;\n",
       "    }\n",
       "</style>\n",
       "<table border=\"1\" class=\"dataframe\">\n",
       "  <thead>\n",
       "    <tr style=\"text-align: right;\">\n",
       "      <th></th>\n",
       "      <th>customerID</th>\n",
       "      <th>gender</th>\n",
       "      <th>SeniorCitizen</th>\n",
       "      <th>Partner</th>\n",
       "      <th>Dependents</th>\n",
       "      <th>tenure</th>\n",
       "      <th>PhoneService</th>\n",
       "      <th>MultipleLines</th>\n",
       "      <th>InternetService</th>\n",
       "      <th>OnlineSecurity</th>\n",
       "      <th>...</th>\n",
       "      <th>DeviceProtection</th>\n",
       "      <th>TechSupport</th>\n",
       "      <th>StreamingTV</th>\n",
       "      <th>StreamingMovies</th>\n",
       "      <th>Contract</th>\n",
       "      <th>PaperlessBilling</th>\n",
       "      <th>PaymentMethod</th>\n",
       "      <th>MonthlyCharges</th>\n",
       "      <th>TotalCharges</th>\n",
       "      <th>Churn</th>\n",
       "    </tr>\n",
       "  </thead>\n",
       "  <tbody>\n",
       "    <tr>\n",
       "      <th>0</th>\n",
       "      <td>7590-VHVEG</td>\n",
       "      <td>Female</td>\n",
       "      <td>0</td>\n",
       "      <td>Yes</td>\n",
       "      <td>No</td>\n",
       "      <td>1</td>\n",
       "      <td>No</td>\n",
       "      <td>No phone service</td>\n",
       "      <td>DSL</td>\n",
       "      <td>No</td>\n",
       "      <td>...</td>\n",
       "      <td>No</td>\n",
       "      <td>No</td>\n",
       "      <td>No</td>\n",
       "      <td>No</td>\n",
       "      <td>Month-to-month</td>\n",
       "      <td>Yes</td>\n",
       "      <td>Electronic check</td>\n",
       "      <td>29.85</td>\n",
       "      <td>29.85</td>\n",
       "      <td>No</td>\n",
       "    </tr>\n",
       "    <tr>\n",
       "      <th>1</th>\n",
       "      <td>5575-GNVDE</td>\n",
       "      <td>Male</td>\n",
       "      <td>0</td>\n",
       "      <td>No</td>\n",
       "      <td>No</td>\n",
       "      <td>34</td>\n",
       "      <td>Yes</td>\n",
       "      <td>No</td>\n",
       "      <td>DSL</td>\n",
       "      <td>Yes</td>\n",
       "      <td>...</td>\n",
       "      <td>Yes</td>\n",
       "      <td>No</td>\n",
       "      <td>No</td>\n",
       "      <td>No</td>\n",
       "      <td>One year</td>\n",
       "      <td>No</td>\n",
       "      <td>Mailed check</td>\n",
       "      <td>56.95</td>\n",
       "      <td>1889.5</td>\n",
       "      <td>No</td>\n",
       "    </tr>\n",
       "    <tr>\n",
       "      <th>2</th>\n",
       "      <td>3668-QPYBK</td>\n",
       "      <td>Male</td>\n",
       "      <td>0</td>\n",
       "      <td>No</td>\n",
       "      <td>No</td>\n",
       "      <td>2</td>\n",
       "      <td>Yes</td>\n",
       "      <td>No</td>\n",
       "      <td>DSL</td>\n",
       "      <td>Yes</td>\n",
       "      <td>...</td>\n",
       "      <td>No</td>\n",
       "      <td>No</td>\n",
       "      <td>No</td>\n",
       "      <td>No</td>\n",
       "      <td>Month-to-month</td>\n",
       "      <td>Yes</td>\n",
       "      <td>Mailed check</td>\n",
       "      <td>53.85</td>\n",
       "      <td>108.15</td>\n",
       "      <td>Yes</td>\n",
       "    </tr>\n",
       "    <tr>\n",
       "      <th>3</th>\n",
       "      <td>7795-CFOCW</td>\n",
       "      <td>Male</td>\n",
       "      <td>0</td>\n",
       "      <td>No</td>\n",
       "      <td>No</td>\n",
       "      <td>45</td>\n",
       "      <td>No</td>\n",
       "      <td>No phone service</td>\n",
       "      <td>DSL</td>\n",
       "      <td>Yes</td>\n",
       "      <td>...</td>\n",
       "      <td>Yes</td>\n",
       "      <td>Yes</td>\n",
       "      <td>No</td>\n",
       "      <td>No</td>\n",
       "      <td>One year</td>\n",
       "      <td>No</td>\n",
       "      <td>Bank transfer (automatic)</td>\n",
       "      <td>42.30</td>\n",
       "      <td>1840.75</td>\n",
       "      <td>No</td>\n",
       "    </tr>\n",
       "    <tr>\n",
       "      <th>4</th>\n",
       "      <td>9237-HQITU</td>\n",
       "      <td>Female</td>\n",
       "      <td>0</td>\n",
       "      <td>No</td>\n",
       "      <td>No</td>\n",
       "      <td>2</td>\n",
       "      <td>Yes</td>\n",
       "      <td>No</td>\n",
       "      <td>Fiber optic</td>\n",
       "      <td>No</td>\n",
       "      <td>...</td>\n",
       "      <td>No</td>\n",
       "      <td>No</td>\n",
       "      <td>No</td>\n",
       "      <td>No</td>\n",
       "      <td>Month-to-month</td>\n",
       "      <td>Yes</td>\n",
       "      <td>Electronic check</td>\n",
       "      <td>70.70</td>\n",
       "      <td>151.65</td>\n",
       "      <td>Yes</td>\n",
       "    </tr>\n",
       "  </tbody>\n",
       "</table>\n",
       "<p>5 rows × 21 columns</p>\n",
       "</div>"
      ],
      "text/plain": [
       "   customerID  gender  SeniorCitizen Partner Dependents  tenure PhoneService  \\\n",
       "0  7590-VHVEG  Female              0     Yes         No       1           No   \n",
       "1  5575-GNVDE    Male              0      No         No      34          Yes   \n",
       "2  3668-QPYBK    Male              0      No         No       2          Yes   \n",
       "3  7795-CFOCW    Male              0      No         No      45           No   \n",
       "4  9237-HQITU  Female              0      No         No       2          Yes   \n",
       "\n",
       "      MultipleLines InternetService OnlineSecurity  ... DeviceProtection  \\\n",
       "0  No phone service             DSL             No  ...               No   \n",
       "1                No             DSL            Yes  ...              Yes   \n",
       "2                No             DSL            Yes  ...               No   \n",
       "3  No phone service             DSL            Yes  ...              Yes   \n",
       "4                No     Fiber optic             No  ...               No   \n",
       "\n",
       "  TechSupport StreamingTV StreamingMovies        Contract PaperlessBilling  \\\n",
       "0          No          No              No  Month-to-month              Yes   \n",
       "1          No          No              No        One year               No   \n",
       "2          No          No              No  Month-to-month              Yes   \n",
       "3         Yes          No              No        One year               No   \n",
       "4          No          No              No  Month-to-month              Yes   \n",
       "\n",
       "               PaymentMethod MonthlyCharges  TotalCharges Churn  \n",
       "0           Electronic check          29.85         29.85    No  \n",
       "1               Mailed check          56.95        1889.5    No  \n",
       "2               Mailed check          53.85        108.15   Yes  \n",
       "3  Bank transfer (automatic)          42.30       1840.75    No  \n",
       "4           Electronic check          70.70        151.65   Yes  \n",
       "\n",
       "[5 rows x 21 columns]"
      ]
     },
     "execution_count": 2,
     "metadata": {},
     "output_type": "execute_result"
    }
   ],
   "source": [
    "# Read the data\n",
    "data = pd.read_csv(\"../input/telco-customer-churn/WA_Fn-UseC_-Telco-Customer-Churn.csv\")\n",
    "\n",
    "# Look at a snapshot of data\n",
    "data.head()"
   ]
  },
  {
   "cell_type": "code",
   "execution_count": 3,
   "metadata": {
    "execution": {
     "iopub.execute_input": "2021-02-02T18:17:36.471020Z",
     "iopub.status.busy": "2021-02-02T18:17:36.470127Z",
     "iopub.status.idle": "2021-02-02T18:17:36.474997Z",
     "shell.execute_reply": "2021-02-02T18:17:36.474477Z"
    },
    "papermill": {
     "duration": 0.042401,
     "end_time": "2021-02-02T18:17:36.475140",
     "exception": false,
     "start_time": "2021-02-02T18:17:36.432739",
     "status": "completed"
    },
    "tags": []
   },
   "outputs": [
    {
     "data": {
      "text/plain": [
       "(7043, 21)"
      ]
     },
     "execution_count": 3,
     "metadata": {},
     "output_type": "execute_result"
    }
   ],
   "source": [
    "data.shape"
   ]
  },
  {
   "cell_type": "code",
   "execution_count": 4,
   "metadata": {
    "execution": {
     "iopub.execute_input": "2021-02-02T18:17:36.541380Z",
     "iopub.status.busy": "2021-02-02T18:17:36.540660Z",
     "iopub.status.idle": "2021-02-02T18:17:36.568045Z",
     "shell.execute_reply": "2021-02-02T18:17:36.567338Z"
    },
    "papermill": {
     "duration": 0.061784,
     "end_time": "2021-02-02T18:17:36.568199",
     "exception": false,
     "start_time": "2021-02-02T18:17:36.506415",
     "status": "completed"
    },
    "tags": []
   },
   "outputs": [
    {
     "data": {
      "text/html": [
       "<div>\n",
       "<style scoped>\n",
       "    .dataframe tbody tr th:only-of-type {\n",
       "        vertical-align: middle;\n",
       "    }\n",
       "\n",
       "    .dataframe tbody tr th {\n",
       "        vertical-align: top;\n",
       "    }\n",
       "\n",
       "    .dataframe thead th {\n",
       "        text-align: right;\n",
       "    }\n",
       "</style>\n",
       "<table border=\"1\" class=\"dataframe\">\n",
       "  <thead>\n",
       "    <tr style=\"text-align: right;\">\n",
       "      <th></th>\n",
       "      <th>SeniorCitizen</th>\n",
       "      <th>tenure</th>\n",
       "      <th>MonthlyCharges</th>\n",
       "    </tr>\n",
       "  </thead>\n",
       "  <tbody>\n",
       "    <tr>\n",
       "      <th>count</th>\n",
       "      <td>7043.000000</td>\n",
       "      <td>7043.000000</td>\n",
       "      <td>7043.000000</td>\n",
       "    </tr>\n",
       "    <tr>\n",
       "      <th>mean</th>\n",
       "      <td>0.162147</td>\n",
       "      <td>32.371149</td>\n",
       "      <td>64.761692</td>\n",
       "    </tr>\n",
       "    <tr>\n",
       "      <th>std</th>\n",
       "      <td>0.368612</td>\n",
       "      <td>24.559481</td>\n",
       "      <td>30.090047</td>\n",
       "    </tr>\n",
       "    <tr>\n",
       "      <th>min</th>\n",
       "      <td>0.000000</td>\n",
       "      <td>0.000000</td>\n",
       "      <td>18.250000</td>\n",
       "    </tr>\n",
       "    <tr>\n",
       "      <th>25%</th>\n",
       "      <td>0.000000</td>\n",
       "      <td>9.000000</td>\n",
       "      <td>35.500000</td>\n",
       "    </tr>\n",
       "    <tr>\n",
       "      <th>50%</th>\n",
       "      <td>0.000000</td>\n",
       "      <td>29.000000</td>\n",
       "      <td>70.350000</td>\n",
       "    </tr>\n",
       "    <tr>\n",
       "      <th>75%</th>\n",
       "      <td>0.000000</td>\n",
       "      <td>55.000000</td>\n",
       "      <td>89.850000</td>\n",
       "    </tr>\n",
       "    <tr>\n",
       "      <th>max</th>\n",
       "      <td>1.000000</td>\n",
       "      <td>72.000000</td>\n",
       "      <td>118.750000</td>\n",
       "    </tr>\n",
       "  </tbody>\n",
       "</table>\n",
       "</div>"
      ],
      "text/plain": [
       "       SeniorCitizen       tenure  MonthlyCharges\n",
       "count    7043.000000  7043.000000     7043.000000\n",
       "mean        0.162147    32.371149       64.761692\n",
       "std         0.368612    24.559481       30.090047\n",
       "min         0.000000     0.000000       18.250000\n",
       "25%         0.000000     9.000000       35.500000\n",
       "50%         0.000000    29.000000       70.350000\n",
       "75%         0.000000    55.000000       89.850000\n",
       "max         1.000000    72.000000      118.750000"
      ]
     },
     "execution_count": 4,
     "metadata": {},
     "output_type": "execute_result"
    }
   ],
   "source": [
    "# See the summary stats and frequency distribution of features\n",
    "data.describe()"
   ]
  },
  {
   "cell_type": "code",
   "execution_count": 5,
   "metadata": {
    "execution": {
     "iopub.execute_input": "2021-02-02T18:17:36.641072Z",
     "iopub.status.busy": "2021-02-02T18:17:36.640039Z",
     "iopub.status.idle": "2021-02-02T18:17:36.732440Z",
     "shell.execute_reply": "2021-02-02T18:17:36.731334Z"
    },
    "papermill": {
     "duration": 0.13245,
     "end_time": "2021-02-02T18:17:36.732705",
     "exception": false,
     "start_time": "2021-02-02T18:17:36.600255",
     "status": "completed"
    },
    "tags": []
   },
   "outputs": [
    {
     "name": "stdout",
     "output_type": "stream",
     "text": [
      "customerID          0\n",
      "gender              0\n",
      "SeniorCitizen       0\n",
      "Partner             0\n",
      "Dependents          0\n",
      "tenure              0\n",
      "PhoneService        0\n",
      "MultipleLines       0\n",
      "InternetService     0\n",
      "OnlineSecurity      0\n",
      "OnlineBackup        0\n",
      "DeviceProtection    0\n",
      "TechSupport         0\n",
      "StreamingTV         0\n",
      "StreamingMovies     0\n",
      "Contract            0\n",
      "PaperlessBilling    0\n",
      "PaymentMethod       0\n",
      "MonthlyCharges      0\n",
      "TotalCharges        0\n",
      "Churn               0\n",
      "dtype: int64\n",
      "(array([ 488,  753,  936, 1082, 1340, 3331, 3826, 4380, 5218, 6670, 6754]), array([19, 19, 19, 19, 19, 19, 19, 19, 19, 19, 19]))\n"
     ]
    }
   ],
   "source": [
    "# Lets' see if there are any missing values\n",
    "\n",
    "print (data.apply(lambda x: sum(x.isnull()),axis=0))\n",
    "print (np.where(data.applymap(lambda x: x == ' ')))"
   ]
  },
  {
   "cell_type": "code",
   "execution_count": 6,
   "metadata": {
    "execution": {
     "iopub.execute_input": "2021-02-02T18:17:36.809918Z",
     "iopub.status.busy": "2021-02-02T18:17:36.809117Z",
     "iopub.status.idle": "2021-02-02T18:17:36.813111Z",
     "shell.execute_reply": "2021-02-02T18:17:36.812262Z"
    },
    "papermill": {
     "duration": 0.046916,
     "end_time": "2021-02-02T18:17:36.813295",
     "exception": false,
     "start_time": "2021-02-02T18:17:36.766379",
     "status": "completed"
    },
    "tags": []
   },
   "outputs": [
    {
     "name": "stdout",
     "output_type": "stream",
     "text": [
      "Yes    1869\n",
      "No     5174\n",
      "Name: Churn, dtype: int64\n"
     ]
    }
   ],
   "source": [
    "# Let's see if there is class imbalance in the target variable\n",
    "print (data['Churn'].value_counts(ascending=True))"
   ]
  },
  {
   "cell_type": "code",
   "execution_count": 7,
   "metadata": {
    "execution": {
     "iopub.execute_input": "2021-02-02T18:17:36.888985Z",
     "iopub.status.busy": "2021-02-02T18:17:36.888247Z",
     "iopub.status.idle": "2021-02-02T18:17:36.932061Z",
     "shell.execute_reply": "2021-02-02T18:17:36.931332Z"
    },
    "papermill": {
     "duration": 0.084671,
     "end_time": "2021-02-02T18:17:36.932211",
     "exception": false,
     "start_time": "2021-02-02T18:17:36.847540",
     "status": "completed"
    },
    "tags": []
   },
   "outputs": [],
   "source": [
    "data['TotalCharges'].replace(to_replace = ' ', value= np.nan, inplace = True)\n",
    "data['TotalCharges'] = data['TotalCharges'].astype(float)\n",
    "data.dropna(axis=0, inplace=True)"
   ]
  },
  {
   "cell_type": "markdown",
   "metadata": {
    "papermill": {
     "duration": 0.033247,
     "end_time": "2021-02-02T18:17:37.000401",
     "exception": false,
     "start_time": "2021-02-02T18:17:36.967154",
     "status": "completed"
    },
    "tags": []
   },
   "source": [
    "### Observations:\n",
    "\n",
    "**On Type conversions:**\n",
    "\n",
    "- Columns like CustomerID can be removed from the analysis\n",
    "- We see that 'Tenure' and 'MonthlyCharges' are numeric columns present in the data, with the data close to normal distribution. \n",
    "- Along with them, 'TotalCharges' is also a numeric column but contains some info missing, but still is not a nan.\n",
    "- The column 'SeniorCitizen' is a categorical column by its nature with 'Yes' as 1, and No as 0. So it shuold be converted into Categorical type\n",
    "- All the categorical attribtues are strings. Hence there is need to convert them into numbers, by a way of encoding.\n",
    "- Among the categorical attribtues, majority of them have binary classes(2 levels). Label encoding would help assign labels 0,1 for the levels as appropriate.\n",
    "- But attributes like 'PaymentMethod', 'Contract', 'InternetService' are nominal and have more than 2 levels. So along with label encoding, we need to convert them into equidistant levels.\n",
    "\n",
    "**On Missingness of data:**\n",
    " The data is clean and there are no missing values in the data\n",
    " \n",
    "**On the class imbalance in the target attribute**\n",
    "There are more instances where the customers din't churn than those that have custoemrs churned out. Class imbalance is clearly seen."
   ]
  },
  {
   "cell_type": "markdown",
   "metadata": {
    "papermill": {
     "duration": 0.033481,
     "end_time": "2021-02-02T18:17:37.068466",
     "exception": false,
     "start_time": "2021-02-02T18:17:37.034985",
     "status": "completed"
    },
    "tags": []
   },
   "source": [
    "## Data Preprocessing"
   ]
  },
  {
   "cell_type": "markdown",
   "metadata": {
    "papermill": {
     "duration": 0.032704,
     "end_time": "2021-02-02T18:17:37.134346",
     "exception": false,
     "start_time": "2021-02-02T18:17:37.101642",
     "status": "completed"
    },
    "tags": []
   },
   "source": [
    "### Split the data into train and test sets\n"
   ]
  },
  {
   "cell_type": "code",
   "execution_count": 8,
   "metadata": {
    "execution": {
     "iopub.execute_input": "2021-02-02T18:17:37.203950Z",
     "iopub.status.busy": "2021-02-02T18:17:37.203279Z",
     "iopub.status.idle": "2021-02-02T18:17:38.391048Z",
     "shell.execute_reply": "2021-02-02T18:17:38.391652Z"
    },
    "papermill": {
     "duration": 1.224299,
     "end_time": "2021-02-02T18:17:38.391845",
     "exception": false,
     "start_time": "2021-02-02T18:17:37.167546",
     "status": "completed"
    },
    "tags": []
   },
   "outputs": [
    {
     "name": "stdout",
     "output_type": "stream",
     "text": [
      "(5625, 20) (1407, 20)\n"
     ]
    }
   ],
   "source": [
    "from sklearn.model_selection import train_test_split\n",
    "\n",
    "y = data['Churn']\n",
    "X = data.loc[:, data.columns != 'Churn']\n",
    "\n",
    "X_train, X_test, y_train, y_test =   train_test_split(X, y, test_size=0.20, random_state=111)\n",
    "\n",
    "print(X_train.shape, X_test.shape)"
   ]
  },
  {
   "cell_type": "code",
   "execution_count": 9,
   "metadata": {
    "execution": {
     "iopub.execute_input": "2021-02-02T18:17:38.465875Z",
     "iopub.status.busy": "2021-02-02T18:17:38.464863Z",
     "iopub.status.idle": "2021-02-02T18:17:38.471493Z",
     "shell.execute_reply": "2021-02-02T18:17:38.470853Z"
    },
    "papermill": {
     "duration": 0.046543,
     "end_time": "2021-02-02T18:17:38.471655",
     "exception": false,
     "start_time": "2021-02-02T18:17:38.425112",
     "status": "completed"
    },
    "tags": []
   },
   "outputs": [],
   "source": [
    "### Remove customerID\n",
    "X_train.drop(['customerID'], axis = 1, inplace=True)\n",
    "X_test.drop(['customerID'], axis = 1, inplace=True)"
   ]
  },
  {
   "cell_type": "markdown",
   "metadata": {
    "papermill": {
     "duration": 0.033629,
     "end_time": "2021-02-02T18:17:38.539185",
     "exception": false,
     "start_time": "2021-02-02T18:17:38.505556",
     "status": "completed"
    },
    "tags": []
   },
   "source": [
    "### Missing values"
   ]
  },
  {
   "cell_type": "code",
   "execution_count": 10,
   "metadata": {
    "execution": {
     "iopub.execute_input": "2021-02-02T18:17:38.617171Z",
     "iopub.status.busy": "2021-02-02T18:17:38.616416Z",
     "iopub.status.idle": "2021-02-02T18:17:38.620514Z",
     "shell.execute_reply": "2021-02-02T18:17:38.619884Z"
    },
    "papermill": {
     "duration": 0.047695,
     "end_time": "2021-02-02T18:17:38.620689",
     "exception": false,
     "start_time": "2021-02-02T18:17:38.572994",
     "status": "completed"
    },
    "tags": []
   },
   "outputs": [
    {
     "name": "stdout",
     "output_type": "stream",
     "text": [
      "Num missing values before imputation:\n",
      "TotalCharges    0\n",
      "dtype: int64\n",
      "Num missing values before imputation:\n",
      "TotalCharges    0\n",
      "dtype: int64\n"
     ]
    }
   ],
   "source": [
    "# Impute missing values, if any!. Check number of missing values\n",
    "print(\"Num missing values before imputation:\")\n",
    "print(pd.DataFrame(X_train['TotalCharges']).isnull().sum())\n",
    "\n",
    "print(\"Num missing values before imputation:\")\n",
    "print(pd.DataFrame(X_test['TotalCharges']).isnull().sum())"
   ]
  },
  {
   "cell_type": "markdown",
   "metadata": {
    "papermill": {
     "duration": 0.044989,
     "end_time": "2021-02-02T18:17:38.702915",
     "exception": false,
     "start_time": "2021-02-02T18:17:38.657926",
     "status": "completed"
    },
    "tags": []
   },
   "source": [
    "### Type Conversions"
   ]
  },
  {
   "cell_type": "code",
   "execution_count": 11,
   "metadata": {
    "execution": {
     "iopub.execute_input": "2021-02-02T18:17:38.796679Z",
     "iopub.status.busy": "2021-02-02T18:17:38.795988Z",
     "iopub.status.idle": "2021-02-02T18:17:38.801117Z",
     "shell.execute_reply": "2021-02-02T18:17:38.801727Z"
    },
    "papermill": {
     "duration": 0.054931,
     "end_time": "2021-02-02T18:17:38.801906",
     "exception": false,
     "start_time": "2021-02-02T18:17:38.746975",
     "status": "completed"
    },
    "tags": []
   },
   "outputs": [],
   "source": [
    "# Convert 'SeniorCitizen' column into categorical\n",
    "X_train['SeniorCitizen']=pd.Categorical(X_train['SeniorCitizen'])\n",
    "X_test['SeniorCitizen']=pd.Categorical(X_test['SeniorCitizen'])"
   ]
  },
  {
   "cell_type": "code",
   "execution_count": 12,
   "metadata": {
    "execution": {
     "iopub.execute_input": "2021-02-02T18:17:38.877204Z",
     "iopub.status.busy": "2021-02-02T18:17:38.876482Z",
     "iopub.status.idle": "2021-02-02T18:17:38.886788Z",
     "shell.execute_reply": "2021-02-02T18:17:38.887964Z"
    },
    "papermill": {
     "duration": 0.05043,
     "end_time": "2021-02-02T18:17:38.888366",
     "exception": false,
     "start_time": "2021-02-02T18:17:38.837936",
     "status": "completed"
    },
    "tags": []
   },
   "outputs": [
    {
     "name": "stdout",
     "output_type": "stream",
     "text": [
      "(5625,) (1407,)\n"
     ]
    }
   ],
   "source": [
    "# Encode target variables to 0, 1\n",
    "y_train = y_train.map(dict(Yes=1, No=0))\n",
    "y_test = y_test.map(dict(Yes = 1, No=0))\n",
    "print(y_train.shape, y_test.shape)"
   ]
  },
  {
   "cell_type": "markdown",
   "metadata": {
    "papermill": {
     "duration": 0.034472,
     "end_time": "2021-02-02T18:17:38.960046",
     "exception": false,
     "start_time": "2021-02-02T18:17:38.925574",
     "status": "completed"
    },
    "tags": []
   },
   "source": [
    "### Standardizing numeric attributes"
   ]
  },
  {
   "cell_type": "code",
   "execution_count": 13,
   "metadata": {
    "execution": {
     "iopub.execute_input": "2021-02-02T18:17:39.035752Z",
     "iopub.status.busy": "2021-02-02T18:17:39.034869Z",
     "iopub.status.idle": "2021-02-02T18:17:39.038024Z",
     "shell.execute_reply": "2021-02-02T18:17:39.037316Z"
    },
    "papermill": {
     "duration": 0.04354,
     "end_time": "2021-02-02T18:17:39.038195",
     "exception": false,
     "start_time": "2021-02-02T18:17:38.994655",
     "status": "completed"
    },
    "tags": []
   },
   "outputs": [],
   "source": [
    "# Divide the columns into 3 categories, one ofor standardisation, one for label encoding and one for one hot encoding\n",
    "num_cols = [\"tenure\", 'MonthlyCharges', 'TotalCharges']\n",
    "cat_cols_ohe =['PaymentMethod', 'Contract', 'InternetService'] # those that need one-hot encoding\n",
    "cat_cols_le = list(set(X_train.columns)- set(num_cols) - set(cat_cols_ohe)) #those that need label encoding"
   ]
  },
  {
   "cell_type": "code",
   "execution_count": 14,
   "metadata": {
    "execution": {
     "iopub.execute_input": "2021-02-02T18:17:39.117386Z",
     "iopub.status.busy": "2021-02-02T18:17:39.116679Z",
     "iopub.status.idle": "2021-02-02T18:17:39.136828Z",
     "shell.execute_reply": "2021-02-02T18:17:39.136198Z"
    },
    "papermill": {
     "duration": 0.063074,
     "end_time": "2021-02-02T18:17:39.137002",
     "exception": false,
     "start_time": "2021-02-02T18:17:39.073928",
     "status": "completed"
    },
    "tags": []
   },
   "outputs": [],
   "source": [
    "from sklearn.preprocessing import StandardScaler\n",
    "\n",
    "scaler= StandardScaler()\n",
    "\n",
    "X_train[num_cols] = scaler.fit_transform(X_train[num_cols])\n",
    "X_test[num_cols] = scaler.transform(X_test[num_cols])\n"
   ]
  },
  {
   "cell_type": "markdown",
   "metadata": {
    "papermill": {
     "duration": 0.03538,
     "end_time": "2021-02-02T18:17:39.211067",
     "exception": false,
     "start_time": "2021-02-02T18:17:39.175687",
     "status": "completed"
    },
    "tags": []
   },
   "source": [
    "### Encoding attributes"
   ]
  },
  {
   "cell_type": "code",
   "execution_count": 15,
   "metadata": {
    "execution": {
     "iopub.execute_input": "2021-02-02T18:17:39.294969Z",
     "iopub.status.busy": "2021-02-02T18:17:39.294259Z",
     "iopub.status.idle": "2021-02-02T18:17:39.333776Z",
     "shell.execute_reply": "2021-02-02T18:17:39.333150Z"
    },
    "papermill": {
     "duration": 0.086974,
     "end_time": "2021-02-02T18:17:39.333945",
     "exception": false,
     "start_time": "2021-02-02T18:17:39.246971",
     "status": "completed"
    },
    "tags": []
   },
   "outputs": [],
   "source": [
    "X_train = pd.DataFrame(X_train)\n",
    "X_test= pd.DataFrame(X_test)\n",
    "from sklearn.preprocessing import LabelEncoder, OneHotEncoder\n",
    "le = LabelEncoder()\n",
    "ohe = OneHotEncoder()\n",
    "\n",
    "for col in cat_cols_le:\n",
    "    le.fit(X_train[col])\n",
    "    X_train[col] = le.transform(X_train[col])\n",
    "    X_test[col] = le.transform(X_test[col])\n",
    "\n"
   ]
  },
  {
   "cell_type": "code",
   "execution_count": 16,
   "metadata": {
    "execution": {
     "iopub.execute_input": "2021-02-02T18:17:39.410043Z",
     "iopub.status.busy": "2021-02-02T18:17:39.409370Z",
     "iopub.status.idle": "2021-02-02T18:17:39.412824Z",
     "shell.execute_reply": "2021-02-02T18:17:39.412168Z"
    },
    "papermill": {
     "duration": 0.043095,
     "end_time": "2021-02-02T18:17:39.412972",
     "exception": false,
     "start_time": "2021-02-02T18:17:39.369877",
     "status": "completed"
    },
    "tags": []
   },
   "outputs": [
    {
     "name": "stdout",
     "output_type": "stream",
     "text": [
      "(5625, 19) (1407, 19)\n"
     ]
    }
   ],
   "source": [
    "print(X_train.shape, X_test.shape)"
   ]
  },
  {
   "cell_type": "code",
   "execution_count": 17,
   "metadata": {
    "execution": {
     "iopub.execute_input": "2021-02-02T18:17:39.493230Z",
     "iopub.status.busy": "2021-02-02T18:17:39.492185Z",
     "iopub.status.idle": "2021-02-02T18:17:39.518170Z",
     "shell.execute_reply": "2021-02-02T18:17:39.517544Z"
    },
    "papermill": {
     "duration": 0.069765,
     "end_time": "2021-02-02T18:17:39.518313",
     "exception": false,
     "start_time": "2021-02-02T18:17:39.448548",
     "status": "completed"
    },
    "tags": []
   },
   "outputs": [
    {
     "name": "stdout",
     "output_type": "stream",
     "text": [
      "(5625, 26) (1407, 26)\n"
     ]
    }
   ],
   "source": [
    "ohe.fit(X_train[cat_cols_ohe])\n",
    "tr_cols= ohe.transform(X_train[cat_cols_ohe])\n",
    "te_cols = ohe.transform(X_test[cat_cols_ohe])\n",
    "\n",
    "X_train.drop(columns=cat_cols_ohe, inplace=True)\n",
    "X_test.drop(columns=cat_cols_ohe, inplace=True)\n",
    "\n",
    "X_train = np.hstack((X_train,tr_cols.toarray()))\n",
    "X_test = np.hstack((X_test, te_cols.toarray()))\n",
    "print(X_train.shape, X_test.shape)\n",
    "\n",
    "\n"
   ]
  },
  {
   "cell_type": "code",
   "execution_count": 18,
   "metadata": {
    "execution": {
     "iopub.execute_input": "2021-02-02T18:17:39.596297Z",
     "iopub.status.busy": "2021-02-02T18:17:39.595643Z",
     "iopub.status.idle": "2021-02-02T18:17:39.602220Z",
     "shell.execute_reply": "2021-02-02T18:17:39.601458Z"
    },
    "papermill": {
     "duration": 0.04564,
     "end_time": "2021-02-02T18:17:39.602384",
     "exception": false,
     "start_time": "2021-02-02T18:17:39.556744",
     "status": "completed"
    },
    "tags": []
   },
   "outputs": [
    {
     "name": "stdout",
     "output_type": "stream",
     "text": [
      "(5625,) (1407,)\n"
     ]
    }
   ],
   "source": [
    "print(y_train.shape, y_test.shape)"
   ]
  },
  {
   "cell_type": "code",
   "execution_count": 19,
   "metadata": {
    "execution": {
     "iopub.execute_input": "2021-02-02T18:17:39.680966Z",
     "iopub.status.busy": "2021-02-02T18:17:39.678459Z",
     "iopub.status.idle": "2021-02-02T18:17:39.688274Z",
     "shell.execute_reply": "2021-02-02T18:17:39.687648Z"
    },
    "papermill": {
     "duration": 0.04942,
     "end_time": "2021-02-02T18:17:39.688417",
     "exception": false,
     "start_time": "2021-02-02T18:17:39.638997",
     "status": "completed"
    },
    "tags": []
   },
   "outputs": [
    {
     "name": "stdout",
     "output_type": "stream",
     "text": [
      "0    4148\n",
      "1    1477\n",
      "Name: Churn, dtype: int64 \n",
      " 0    1015\n",
      "1     392\n",
      "Name: Churn, dtype: int64\n"
     ]
    }
   ],
   "source": [
    "print(y_train.value_counts(), '\\n', y_test.value_counts())"
   ]
  },
  {
   "cell_type": "markdown",
   "metadata": {
    "papermill": {
     "duration": 0.036484,
     "end_time": "2021-02-02T18:17:39.762550",
     "exception": false,
     "start_time": "2021-02-02T18:17:39.726066",
     "status": "completed"
    },
    "tags": []
   },
   "source": [
    "## Building the ANN Model"
   ]
  },
  {
   "cell_type": "code",
   "execution_count": 20,
   "metadata": {
    "execution": {
     "iopub.execute_input": "2021-02-02T18:17:39.843356Z",
     "iopub.status.busy": "2021-02-02T18:17:39.842658Z",
     "iopub.status.idle": "2021-02-02T18:17:46.379632Z",
     "shell.execute_reply": "2021-02-02T18:17:46.379065Z"
    },
    "papermill": {
     "duration": 6.579328,
     "end_time": "2021-02-02T18:17:46.379785",
     "exception": false,
     "start_time": "2021-02-02T18:17:39.800457",
     "status": "completed"
    },
    "tags": []
   },
   "outputs": [],
   "source": [
    "#Importing necessary modules\n",
    "from tensorflow.keras.models import Sequential\n",
    "from tensorflow.keras import Input, Model\n",
    "from tensorflow.keras.layers import Dense, Dropout, Activation\n",
    "from sklearn.model_selection import train_test_split"
   ]
  },
  {
   "cell_type": "code",
   "execution_count": 21,
   "metadata": {
    "execution": {
     "iopub.execute_input": "2021-02-02T18:17:46.459044Z",
     "iopub.status.busy": "2021-02-02T18:17:46.458160Z",
     "iopub.status.idle": "2021-02-02T18:17:46.461272Z",
     "shell.execute_reply": "2021-02-02T18:17:46.460594Z"
    },
    "papermill": {
     "duration": 0.044714,
     "end_time": "2021-02-02T18:17:46.461419",
     "exception": false,
     "start_time": "2021-02-02T18:17:46.416705",
     "status": "completed"
    },
    "tags": []
   },
   "outputs": [],
   "source": [
    "seed = 7\n",
    "np.random.seed(seed)"
   ]
  },
  {
   "cell_type": "code",
   "execution_count": 22,
   "metadata": {
    "execution": {
     "iopub.execute_input": "2021-02-02T18:17:46.542478Z",
     "iopub.status.busy": "2021-02-02T18:17:46.541433Z",
     "iopub.status.idle": "2021-02-02T18:17:46.545337Z",
     "shell.execute_reply": "2021-02-02T18:17:46.545804Z"
    },
    "papermill": {
     "duration": 0.04682,
     "end_time": "2021-02-02T18:17:46.545986",
     "exception": false,
     "start_time": "2021-02-02T18:17:46.499166",
     "status": "completed"
    },
    "tags": []
   },
   "outputs": [],
   "source": [
    "\n",
    "X_train = np.array(X_train)\n",
    "y_train = np.array(y_train)\n",
    "X_test = np.array(X_test)\n",
    "y_test = np.array(y_test)\n",
    "\n",
    "input_shape = X_train.shape[1]"
   ]
  },
  {
   "cell_type": "code",
   "execution_count": 23,
   "metadata": {
    "execution": {
     "iopub.execute_input": "2021-02-02T18:17:46.633254Z",
     "iopub.status.busy": "2021-02-02T18:17:46.632162Z",
     "iopub.status.idle": "2021-02-02T18:17:58.411709Z",
     "shell.execute_reply": "2021-02-02T18:17:58.411061Z"
    },
    "papermill": {
     "duration": 11.828187,
     "end_time": "2021-02-02T18:17:58.411865",
     "exception": false,
     "start_time": "2021-02-02T18:17:46.583678",
     "status": "completed"
    },
    "tags": []
   },
   "outputs": [
    {
     "name": "stdout",
     "output_type": "stream",
     "text": [
      "Epoch 1/25\n",
      "235/235 [==============================] - 1s 2ms/step - loss: 0.2281 - accuracy: 0.4923\n",
      "Epoch 2/25\n",
      "235/235 [==============================] - 0s 2ms/step - loss: 0.1807 - accuracy: 0.7157\n",
      "Epoch 3/25\n",
      "235/235 [==============================] - 0s 2ms/step - loss: 0.1790 - accuracy: 0.6910\n",
      "Epoch 4/25\n",
      "235/235 [==============================] - 0s 2ms/step - loss: 0.1769 - accuracy: 0.7090\n",
      "Epoch 5/25\n",
      "235/235 [==============================] - 0s 2ms/step - loss: 0.1771 - accuracy: 0.6860\n",
      "Epoch 6/25\n",
      "235/235 [==============================] - 0s 2ms/step - loss: 0.1686 - accuracy: 0.7119\n",
      "Epoch 7/25\n",
      "235/235 [==============================] - 0s 2ms/step - loss: 0.1686 - accuracy: 0.7133\n",
      "Epoch 8/25\n",
      "235/235 [==============================] - 0s 2ms/step - loss: 0.1748 - accuracy: 0.7177\n",
      "Epoch 9/25\n",
      "235/235 [==============================] - 0s 2ms/step - loss: 0.1725 - accuracy: 0.7145\n",
      "Epoch 10/25\n",
      "235/235 [==============================] - 0s 2ms/step - loss: 0.1619 - accuracy: 0.7182\n",
      "Epoch 11/25\n",
      "235/235 [==============================] - 0s 2ms/step - loss: 0.1732 - accuracy: 0.7192\n",
      "Epoch 12/25\n",
      "235/235 [==============================] - 0s 2ms/step - loss: 0.1701 - accuracy: 0.7268\n",
      "Epoch 13/25\n",
      "235/235 [==============================] - 0s 2ms/step - loss: 0.1664 - accuracy: 0.7259\n",
      "Epoch 14/25\n",
      "235/235 [==============================] - 0s 2ms/step - loss: 0.1684 - accuracy: 0.7234\n",
      "Epoch 15/25\n",
      "235/235 [==============================] - 0s 2ms/step - loss: 0.1692 - accuracy: 0.7265\n",
      "Epoch 16/25\n",
      "235/235 [==============================] - 0s 2ms/step - loss: 0.1740 - accuracy: 0.7112\n",
      "Epoch 17/25\n",
      "235/235 [==============================] - 0s 2ms/step - loss: 0.1680 - accuracy: 0.7073\n",
      "Epoch 18/25\n",
      "235/235 [==============================] - 0s 2ms/step - loss: 0.1645 - accuracy: 0.7433\n",
      "Epoch 19/25\n",
      "235/235 [==============================] - 0s 2ms/step - loss: 0.1697 - accuracy: 0.7133\n",
      "Epoch 20/25\n",
      "235/235 [==============================] - 0s 2ms/step - loss: 0.1659 - accuracy: 0.7346\n",
      "Epoch 21/25\n",
      "235/235 [==============================] - 0s 2ms/step - loss: 0.1654 - accuracy: 0.7299\n",
      "Epoch 22/25\n",
      "235/235 [==============================] - 0s 2ms/step - loss: 0.1652 - accuracy: 0.7354\n",
      "Epoch 23/25\n",
      "235/235 [==============================] - 0s 2ms/step - loss: 0.1643 - accuracy: 0.7004\n",
      "Epoch 24/25\n",
      "235/235 [==============================] - 0s 2ms/step - loss: 0.1629 - accuracy: 0.7241\n",
      "Epoch 25/25\n",
      "235/235 [==============================] - 0s 2ms/step - loss: 0.1633 - accuracy: 0.7289\n"
     ]
    },
    {
     "data": {
      "text/plain": [
       "<tensorflow.python.keras.callbacks.History at 0x7f47d44c1d10>"
      ]
     },
     "execution_count": 23,
     "metadata": {},
     "output_type": "execute_result"
    }
   ],
   "source": [
    "model = Sequential()\n",
    "model.add(Dense(32, input_dim=input_shape, kernel_initializer='uniform', activation='relu'))\n",
    "model.add(Dropout(0.2))\n",
    "model.add(Dense(64, activation='relu'))\n",
    "model.add(Dropout(0.5))\n",
    "model.add(Dense(128, activation='relu'))\n",
    "model.add(Dropout(0.7))\n",
    "model.add(Dense(1, activation='sigmoid'))\n",
    "\n",
    "\n",
    "\n",
    "model.compile(loss='binary_crossentropy',\n",
    "              optimizer='adam',\n",
    "              metrics=['accuracy'])\n",
    "\n",
    "\n",
    "model.fit(X_train, y_train,\n",
    "              epochs=25,\n",
    "          batch_size=24, class_weight={0:0.2, 1:0.8})\n",
    "\n"
   ]
  },
  {
   "cell_type": "code",
   "execution_count": 24,
   "metadata": {
    "execution": {
     "iopub.execute_input": "2021-02-02T18:17:58.645816Z",
     "iopub.status.busy": "2021-02-02T18:17:58.645129Z",
     "iopub.status.idle": "2021-02-02T18:17:58.897973Z",
     "shell.execute_reply": "2021-02-02T18:17:58.898498Z"
    },
    "papermill": {
     "duration": 0.372056,
     "end_time": "2021-02-02T18:17:58.898708",
     "exception": false,
     "start_time": "2021-02-02T18:17:58.526652",
     "status": "completed"
    },
    "tags": []
   },
   "outputs": [
    {
     "name": "stdout",
     "output_type": "stream",
     "text": [
      "71/71 [==============================] - 0s 1ms/step - loss: 0.5723 - accuracy: 0.6986\n"
     ]
    }
   ],
   "source": [
    "\n",
    "score = model.evaluate(X_test, y_test, batch_size=20)"
   ]
  },
  {
   "cell_type": "code",
   "execution_count": 25,
   "metadata": {
    "execution": {
     "iopub.execute_input": "2021-02-02T18:17:59.136536Z",
     "iopub.status.busy": "2021-02-02T18:17:59.135646Z",
     "iopub.status.idle": "2021-02-02T18:17:59.138784Z",
     "shell.execute_reply": "2021-02-02T18:17:59.139285Z"
    },
    "papermill": {
     "duration": 0.125288,
     "end_time": "2021-02-02T18:17:59.139472",
     "exception": false,
     "start_time": "2021-02-02T18:17:59.014184",
     "status": "completed"
    },
    "tags": []
   },
   "outputs": [
    {
     "name": "stdout",
     "output_type": "stream",
     "text": [
      "[0.5722663998603821, 0.6986495852470398]\n",
      "Accuracy : 69.865%\n"
     ]
    }
   ],
   "source": [
    "print(score)\n",
    "print (\"Accuracy : %s\" % \"{0:.3%}\".format(score[1]))\n"
   ]
  },
  {
   "cell_type": "code",
   "execution_count": 26,
   "metadata": {
    "execution": {
     "iopub.execute_input": "2021-02-02T18:17:59.375985Z",
     "iopub.status.busy": "2021-02-02T18:17:59.375282Z",
     "iopub.status.idle": "2021-02-02T18:17:59.657865Z",
     "shell.execute_reply": "2021-02-02T18:17:59.657244Z"
    },
    "papermill": {
     "duration": 0.40389,
     "end_time": "2021-02-02T18:17:59.658024",
     "exception": false,
     "start_time": "2021-02-02T18:17:59.254134",
     "status": "completed"
    },
    "tags": []
   },
   "outputs": [],
   "source": [
    "\n",
    "train_pred_dl=model.predict_classes(X_train)\n",
    "test_pred_dl=model.predict_classes(X_test)"
   ]
  },
  {
   "cell_type": "code",
   "execution_count": 27,
   "metadata": {
    "execution": {
     "iopub.execute_input": "2021-02-02T18:17:59.897786Z",
     "iopub.status.busy": "2021-02-02T18:17:59.897083Z",
     "iopub.status.idle": "2021-02-02T18:17:59.905092Z",
     "shell.execute_reply": "2021-02-02T18:17:59.905564Z"
    },
    "papermill": {
     "duration": 0.131854,
     "end_time": "2021-02-02T18:17:59.905773",
     "exception": false,
     "start_time": "2021-02-02T18:17:59.773919",
     "status": "completed"
    },
    "tags": []
   },
   "outputs": [
    {
     "name": "stdout",
     "output_type": "stream",
     "text": [
      "[[644 371]\n",
      " [ 53 339]]\n"
     ]
    }
   ],
   "source": [
    "from sklearn import metrics\n",
    "mlp_conf_matrix = metrics.confusion_matrix(y_test, test_pred_dl)\n",
    "print (mlp_conf_matrix)"
   ]
  },
  {
   "cell_type": "code",
   "execution_count": 28,
   "metadata": {
    "execution": {
     "iopub.execute_input": "2021-02-02T18:18:00.145866Z",
     "iopub.status.busy": "2021-02-02T18:18:00.145156Z",
     "iopub.status.idle": "2021-02-02T18:18:00.151990Z",
     "shell.execute_reply": "2021-02-02T18:18:00.152600Z"
    },
    "papermill": {
     "duration": 0.130666,
     "end_time": "2021-02-02T18:18:00.152805",
     "exception": false,
     "start_time": "2021-02-02T18:18:00.022139",
     "status": "completed"
    },
    "tags": []
   },
   "outputs": [
    {
     "name": "stdout",
     "output_type": "stream",
     "text": [
      "Accuracy : 69.865%\n",
      "Recall : 86.480%\n"
     ]
    }
   ],
   "source": [
    "\n",
    "accuracy = metrics.accuracy_score(y_test,test_pred_dl)\n",
    "    \n",
    "print (\"Accuracy : %s\" % \"{0:.3%}\".format(accuracy))\n",
    "\n",
    "#Print Recall\n",
    "recall = metrics.recall_score(y_test,test_pred_dl)\n",
    "    \n",
    "print (\"Recall : %s\" % \"{0:.3%}\".format(recall))"
   ]
  },
  {
   "cell_type": "markdown",
   "metadata": {
    "papermill": {
     "duration": 0.11668,
     "end_time": "2021-02-02T18:18:00.384181",
     "exception": false,
     "start_time": "2021-02-02T18:18:00.267501",
     "status": "completed"
    },
    "tags": []
   },
   "source": [
    "## MLP using features from AutoEncoders"
   ]
  },
  {
   "cell_type": "code",
   "execution_count": 29,
   "metadata": {
    "execution": {
     "iopub.execute_input": "2021-02-02T18:18:00.656130Z",
     "iopub.status.busy": "2021-02-02T18:18:00.655294Z",
     "iopub.status.idle": "2021-02-02T18:18:00.670424Z",
     "shell.execute_reply": "2021-02-02T18:18:00.671097Z"
    },
    "papermill": {
     "duration": 0.15934,
     "end_time": "2021-02-02T18:18:00.671316",
     "exception": false,
     "start_time": "2021-02-02T18:18:00.511976",
     "status": "completed"
    },
    "tags": []
   },
   "outputs": [],
   "source": [
    "encoding_dim  = 32\n",
    "# this is our input placeholder\n",
    "input_img = Input(shape=(input_shape,))\n",
    "\n",
    "# \"encoded\" is the encoded representation of the input\n",
    "encoded = Dense(encoding_dim, activation='relu')(input_img)\n",
    "\n",
    "# \"decoded\" is the lossy reconstruction of the input\n",
    "decoded = Dense(input_shape, activation='sigmoid')(encoded)\n",
    "\n",
    "# this model maps an input to its reconstruction\n",
    "autoencoder = Model(inputs=input_img, outputs=decoded)"
   ]
  },
  {
   "cell_type": "code",
   "execution_count": 30,
   "metadata": {
    "execution": {
     "iopub.execute_input": "2021-02-02T18:18:00.940115Z",
     "iopub.status.busy": "2021-02-02T18:18:00.939093Z",
     "iopub.status.idle": "2021-02-02T18:18:00.952337Z",
     "shell.execute_reply": "2021-02-02T18:18:00.952862Z"
    },
    "papermill": {
     "duration": 0.134622,
     "end_time": "2021-02-02T18:18:00.953049",
     "exception": false,
     "start_time": "2021-02-02T18:18:00.818427",
     "status": "completed"
    },
    "tags": []
   },
   "outputs": [],
   "source": [
    "autoencoder.compile(optimizer='adadelta', loss='binary_crossentropy') #optimizer = adam --- can also be used "
   ]
  },
  {
   "cell_type": "code",
   "execution_count": 31,
   "metadata": {
    "execution": {
     "iopub.execute_input": "2021-02-02T18:18:01.194093Z",
     "iopub.status.busy": "2021-02-02T18:18:01.193121Z",
     "iopub.status.idle": "2021-02-02T18:18:21.475134Z",
     "shell.execute_reply": "2021-02-02T18:18:21.474517Z"
    },
    "papermill": {
     "duration": 20.401892,
     "end_time": "2021-02-02T18:18:21.475277",
     "exception": false,
     "start_time": "2021-02-02T18:18:01.073385",
     "status": "completed"
    },
    "tags": []
   },
   "outputs": [
    {
     "name": "stdout",
     "output_type": "stream",
     "text": [
      "Epoch 1/50\n",
      "235/235 [==============================] - 1s 3ms/step - loss: 0.7873 - val_loss: 0.7839\n",
      "Epoch 2/50\n",
      "235/235 [==============================] - 0s 2ms/step - loss: 0.7846 - val_loss: 0.7813\n",
      "Epoch 3/50\n",
      "235/235 [==============================] - 0s 2ms/step - loss: 0.7811 - val_loss: 0.7787\n",
      "Epoch 4/50\n",
      "235/235 [==============================] - 0s 2ms/step - loss: 0.7780 - val_loss: 0.7760\n",
      "Epoch 5/50\n",
      "235/235 [==============================] - 0s 2ms/step - loss: 0.7750 - val_loss: 0.7732\n",
      "Epoch 6/50\n",
      "235/235 [==============================] - 0s 2ms/step - loss: 0.7721 - val_loss: 0.7705\n",
      "Epoch 7/50\n",
      "235/235 [==============================] - 0s 1ms/step - loss: 0.7704 - val_loss: 0.7678\n",
      "Epoch 8/50\n",
      "235/235 [==============================] - 0s 2ms/step - loss: 0.7668 - val_loss: 0.7651\n",
      "Epoch 9/50\n",
      "235/235 [==============================] - 0s 2ms/step - loss: 0.7644 - val_loss: 0.7624\n",
      "Epoch 10/50\n",
      "235/235 [==============================] - 0s 2ms/step - loss: 0.7617 - val_loss: 0.7597\n",
      "Epoch 11/50\n",
      "235/235 [==============================] - 0s 2ms/step - loss: 0.7599 - val_loss: 0.7570\n",
      "Epoch 12/50\n",
      "235/235 [==============================] - 0s 2ms/step - loss: 0.7564 - val_loss: 0.7544\n",
      "Epoch 13/50\n",
      "235/235 [==============================] - 0s 2ms/step - loss: 0.7550 - val_loss: 0.7517\n",
      "Epoch 14/50\n",
      "235/235 [==============================] - 1s 2ms/step - loss: 0.7524 - val_loss: 0.7491\n",
      "Epoch 15/50\n",
      "235/235 [==============================] - 0s 2ms/step - loss: 0.7498 - val_loss: 0.7465\n",
      "Epoch 16/50\n",
      "235/235 [==============================] - 0s 2ms/step - loss: 0.7467 - val_loss: 0.7439\n",
      "Epoch 17/50\n",
      "235/235 [==============================] - 0s 2ms/step - loss: 0.7421 - val_loss: 0.7413\n",
      "Epoch 18/50\n",
      "235/235 [==============================] - 0s 2ms/step - loss: 0.7418 - val_loss: 0.7388\n",
      "Epoch 19/50\n",
      "235/235 [==============================] - 0s 2ms/step - loss: 0.7383 - val_loss: 0.7363\n",
      "Epoch 20/50\n",
      "235/235 [==============================] - 0s 2ms/step - loss: 0.7340 - val_loss: 0.7337\n",
      "Epoch 21/50\n",
      "235/235 [==============================] - 0s 2ms/step - loss: 0.7346 - val_loss: 0.7313\n",
      "Epoch 22/50\n",
      "235/235 [==============================] - 0s 2ms/step - loss: 0.7295 - val_loss: 0.7288\n",
      "Epoch 23/50\n",
      "235/235 [==============================] - 0s 2ms/step - loss: 0.7271 - val_loss: 0.7264\n",
      "Epoch 24/50\n",
      "235/235 [==============================] - 0s 2ms/step - loss: 0.7263 - val_loss: 0.7239\n",
      "Epoch 25/50\n",
      "235/235 [==============================] - 0s 2ms/step - loss: 0.7229 - val_loss: 0.7215\n",
      "Epoch 26/50\n",
      "235/235 [==============================] - 0s 2ms/step - loss: 0.7219 - val_loss: 0.7191\n",
      "Epoch 27/50\n",
      "235/235 [==============================] - 0s 2ms/step - loss: 0.7192 - val_loss: 0.7167\n",
      "Epoch 28/50\n",
      "235/235 [==============================] - 0s 2ms/step - loss: 0.7147 - val_loss: 0.7144\n",
      "Epoch 29/50\n",
      "235/235 [==============================] - 0s 2ms/step - loss: 0.7136 - val_loss: 0.7120\n",
      "Epoch 30/50\n",
      "235/235 [==============================] - 0s 2ms/step - loss: 0.7113 - val_loss: 0.7097\n",
      "Epoch 31/50\n",
      "235/235 [==============================] - 0s 2ms/step - loss: 0.7081 - val_loss: 0.7074\n",
      "Epoch 32/50\n",
      "235/235 [==============================] - 0s 2ms/step - loss: 0.7062 - val_loss: 0.7052\n",
      "Epoch 33/50\n",
      "235/235 [==============================] - 0s 2ms/step - loss: 0.7029 - val_loss: 0.7029\n",
      "Epoch 34/50\n",
      "235/235 [==============================] - 0s 2ms/step - loss: 0.7010 - val_loss: 0.7007\n",
      "Epoch 35/50\n",
      "235/235 [==============================] - 0s 2ms/step - loss: 0.6997 - val_loss: 0.6984\n",
      "Epoch 36/50\n",
      "235/235 [==============================] - 0s 2ms/step - loss: 0.6960 - val_loss: 0.6962\n",
      "Epoch 37/50\n",
      "235/235 [==============================] - 0s 2ms/step - loss: 0.6965 - val_loss: 0.6940\n",
      "Epoch 38/50\n",
      "235/235 [==============================] - 0s 2ms/step - loss: 0.6927 - val_loss: 0.6919\n",
      "Epoch 39/50\n",
      "235/235 [==============================] - 0s 2ms/step - loss: 0.6905 - val_loss: 0.6897\n",
      "Epoch 40/50\n",
      "235/235 [==============================] - 0s 2ms/step - loss: 0.6900 - val_loss: 0.6876\n",
      "Epoch 41/50\n",
      "235/235 [==============================] - 0s 2ms/step - loss: 0.6859 - val_loss: 0.6854\n",
      "Epoch 42/50\n",
      "235/235 [==============================] - 0s 2ms/step - loss: 0.6840 - val_loss: 0.6833\n",
      "Epoch 43/50\n",
      "235/235 [==============================] - 0s 2ms/step - loss: 0.6834 - val_loss: 0.6812\n",
      "Epoch 44/50\n",
      "235/235 [==============================] - 0s 2ms/step - loss: 0.6811 - val_loss: 0.6791\n",
      "Epoch 45/50\n",
      "235/235 [==============================] - 0s 2ms/step - loss: 0.6778 - val_loss: 0.6770\n",
      "Epoch 46/50\n",
      "235/235 [==============================] - 0s 2ms/step - loss: 0.6764 - val_loss: 0.6750\n",
      "Epoch 47/50\n",
      "235/235 [==============================] - 0s 2ms/step - loss: 0.6736 - val_loss: 0.6729\n",
      "Epoch 48/50\n",
      "235/235 [==============================] - 0s 2ms/step - loss: 0.6712 - val_loss: 0.6709\n",
      "Epoch 49/50\n",
      "235/235 [==============================] - 0s 2ms/step - loss: 0.6689 - val_loss: 0.6689\n",
      "Epoch 50/50\n",
      "235/235 [==============================] - 0s 2ms/step - loss: 0.6673 - val_loss: 0.6669\n"
     ]
    },
    {
     "data": {
      "text/plain": [
       "<tensorflow.python.keras.callbacks.History at 0x7f47cc406b90>"
      ]
     },
     "execution_count": 31,
     "metadata": {},
     "output_type": "execute_result"
    }
   ],
   "source": [
    "autoencoder.fit(X_train, X_train,\n",
    "                epochs=50,\n",
    "                batch_size=24,\n",
    "                shuffle=True,\n",
    "                validation_data=(X_test, X_test))"
   ]
  },
  {
   "cell_type": "code",
   "execution_count": 32,
   "metadata": {
    "execution": {
     "iopub.execute_input": "2021-02-02T18:18:21.942712Z",
     "iopub.status.busy": "2021-02-02T18:18:21.942028Z",
     "iopub.status.idle": "2021-02-02T18:18:21.947311Z",
     "shell.execute_reply": "2021-02-02T18:18:21.946654Z"
    },
    "papermill": {
     "duration": 0.241579,
     "end_time": "2021-02-02T18:18:21.947452",
     "exception": false,
     "start_time": "2021-02-02T18:18:21.705873",
     "status": "completed"
    },
    "tags": []
   },
   "outputs": [],
   "source": [
    "# this model maps an input to its encoded representation\n",
    "encoder = Model(inputs=input_img, outputs=encoded)\n"
   ]
  },
  {
   "cell_type": "code",
   "execution_count": 33,
   "metadata": {
    "execution": {
     "iopub.execute_input": "2021-02-02T18:18:22.415959Z",
     "iopub.status.busy": "2021-02-02T18:18:22.415193Z",
     "iopub.status.idle": "2021-02-02T18:18:22.648251Z",
     "shell.execute_reply": "2021-02-02T18:18:22.647267Z"
    },
    "papermill": {
     "duration": 0.468338,
     "end_time": "2021-02-02T18:18:22.648481",
     "exception": false,
     "start_time": "2021-02-02T18:18:22.180143",
     "status": "completed"
    },
    "tags": []
   },
   "outputs": [],
   "source": [
    "x_train_encoded = encoder.predict(X_train)\n",
    "x_test_encoded = encoder.predict(X_test)"
   ]
  },
  {
   "cell_type": "code",
   "execution_count": 34,
   "metadata": {
    "execution": {
     "iopub.execute_input": "2021-02-02T18:18:23.157308Z",
     "iopub.status.busy": "2021-02-02T18:18:23.156176Z",
     "iopub.status.idle": "2021-02-02T18:18:23.159786Z",
     "shell.execute_reply": "2021-02-02T18:18:23.160400Z"
    },
    "papermill": {
     "duration": 0.240364,
     "end_time": "2021-02-02T18:18:23.160574",
     "exception": false,
     "start_time": "2021-02-02T18:18:22.920210",
     "status": "completed"
    },
    "tags": []
   },
   "outputs": [
    {
     "data": {
      "text/plain": [
       "array([[0.730636  , 0.        , 1.5105859 , ..., 0.88970137, 0.        ,\n",
       "        1.3669732 ],\n",
       "       [0.6253408 , 0.        , 2.4669418 , ..., 1.1438243 , 0.        ,\n",
       "        0.07685003],\n",
       "       [0.        , 0.702132  , 1.4488927 , ..., 1.5563151 , 0.        ,\n",
       "        0.        ],\n",
       "       ...,\n",
       "       [0.71535593, 0.04081775, 1.6565399 , ..., 0.5480147 , 0.        ,\n",
       "        0.10981148],\n",
       "       [0.        , 0.24502505, 1.5094392 , ..., 2.099444  , 0.        ,\n",
       "        0.        ],\n",
       "       [0.        , 0.6316507 , 1.6074859 , ..., 0.923262  , 0.        ,\n",
       "        0.75907373]], dtype=float32)"
      ]
     },
     "execution_count": 34,
     "metadata": {},
     "output_type": "execute_result"
    }
   ],
   "source": [
    "x_test_encoded"
   ]
  },
  {
   "cell_type": "code",
   "execution_count": 35,
   "metadata": {
    "execution": {
     "iopub.execute_input": "2021-02-02T18:18:23.625838Z",
     "iopub.status.busy": "2021-02-02T18:18:23.624965Z",
     "iopub.status.idle": "2021-02-02T18:18:23.629235Z",
     "shell.execute_reply": "2021-02-02T18:18:23.628695Z"
    },
    "papermill": {
     "duration": 0.239908,
     "end_time": "2021-02-02T18:18:23.629376",
     "exception": false,
     "start_time": "2021-02-02T18:18:23.389468",
     "status": "completed"
    },
    "tags": []
   },
   "outputs": [
    {
     "data": {
      "text/plain": [
       "(5625, 32)"
      ]
     },
     "execution_count": 35,
     "metadata": {},
     "output_type": "execute_result"
    }
   ],
   "source": [
    "x_train_encoded.shape"
   ]
  },
  {
   "cell_type": "code",
   "execution_count": 36,
   "metadata": {
    "execution": {
     "iopub.execute_input": "2021-02-02T18:18:24.089252Z",
     "iopub.status.busy": "2021-02-02T18:18:24.088131Z",
     "iopub.status.idle": "2021-02-02T18:18:24.091675Z",
     "shell.execute_reply": "2021-02-02T18:18:24.092126Z"
    },
    "papermill": {
     "duration": 0.235355,
     "end_time": "2021-02-02T18:18:24.092297",
     "exception": false,
     "start_time": "2021-02-02T18:18:23.856942",
     "status": "completed"
    },
    "tags": []
   },
   "outputs": [
    {
     "data": {
      "text/plain": [
       "(1407, 32)"
      ]
     },
     "execution_count": 36,
     "metadata": {},
     "output_type": "execute_result"
    }
   ],
   "source": [
    "x_test_encoded.shape"
   ]
  },
  {
   "cell_type": "code",
   "execution_count": 37,
   "metadata": {
    "execution": {
     "iopub.execute_input": "2021-02-02T18:18:24.562663Z",
     "iopub.status.busy": "2021-02-02T18:18:24.557782Z",
     "iopub.status.idle": "2021-02-02T18:18:24.589628Z",
     "shell.execute_reply": "2021-02-02T18:18:24.590164Z"
    },
    "papermill": {
     "duration": 0.272099,
     "end_time": "2021-02-02T18:18:24.590377",
     "exception": false,
     "start_time": "2021-02-02T18:18:24.318278",
     "status": "completed"
    },
    "tags": []
   },
   "outputs": [],
   "source": [
    "model2 = Sequential()\n",
    "\n",
    "model2.add(Dense(64, input_dim = 32, kernel_initializer='uniform', activation='relu'))\n",
    "model2.add(Dropout(0.2))\n",
    "model2.add(Dense(16, activation='relu'))\n",
    "model2.add(Dropout(0.2))\n",
    "model2.add(Dense(1, kernel_initializer='uniform', activation='sigmoid'))"
   ]
  },
  {
   "cell_type": "code",
   "execution_count": 38,
   "metadata": {
    "execution": {
     "iopub.execute_input": "2021-02-02T18:18:25.062333Z",
     "iopub.status.busy": "2021-02-02T18:18:25.061463Z",
     "iopub.status.idle": "2021-02-02T18:18:25.068503Z",
     "shell.execute_reply": "2021-02-02T18:18:25.067941Z"
    },
    "papermill": {
     "duration": 0.245604,
     "end_time": "2021-02-02T18:18:25.068783",
     "exception": false,
     "start_time": "2021-02-02T18:18:24.823179",
     "status": "completed"
    },
    "tags": []
   },
   "outputs": [],
   "source": [
    "model2.compile(loss='binary_crossentropy',\n",
    "              optimizer='Adam',\n",
    "              metrics=['accuracy'])"
   ]
  },
  {
   "cell_type": "code",
   "execution_count": 39,
   "metadata": {
    "execution": {
     "iopub.execute_input": "2021-02-02T18:18:25.528761Z",
     "iopub.status.busy": "2021-02-02T18:18:25.528067Z",
     "iopub.status.idle": "2021-02-02T18:18:25.532959Z",
     "shell.execute_reply": "2021-02-02T18:18:25.532401Z"
    },
    "papermill": {
     "duration": 0.23651,
     "end_time": "2021-02-02T18:18:25.533100",
     "exception": false,
     "start_time": "2021-02-02T18:18:25.296590",
     "status": "completed"
    },
    "tags": []
   },
   "outputs": [
    {
     "data": {
      "text/plain": [
       "(5625, 32)"
      ]
     },
     "execution_count": 39,
     "metadata": {},
     "output_type": "execute_result"
    }
   ],
   "source": [
    "x_train_encoded.shape"
   ]
  },
  {
   "cell_type": "code",
   "execution_count": 40,
   "metadata": {
    "execution": {
     "iopub.execute_input": "2021-02-02T18:18:26.003900Z",
     "iopub.status.busy": "2021-02-02T18:18:26.002158Z",
     "iopub.status.idle": "2021-02-02T18:18:33.376165Z",
     "shell.execute_reply": "2021-02-02T18:18:33.375505Z"
    },
    "papermill": {
     "duration": 7.611477,
     "end_time": "2021-02-02T18:18:33.376313",
     "exception": false,
     "start_time": "2021-02-02T18:18:25.764836",
     "status": "completed"
    },
    "tags": []
   },
   "outputs": [
    {
     "name": "stdout",
     "output_type": "stream",
     "text": [
      "Epoch 1/25\n",
      "176/176 [==============================] - 1s 2ms/step - loss: 0.2362 - accuracy: 0.4486\n",
      "Epoch 2/25\n",
      "176/176 [==============================] - 0s 2ms/step - loss: 0.1937 - accuracy: 0.6693\n",
      "Epoch 3/25\n",
      "176/176 [==============================] - 0s 2ms/step - loss: 0.1837 - accuracy: 0.6898\n",
      "Epoch 4/25\n",
      "176/176 [==============================] - 0s 2ms/step - loss: 0.1853 - accuracy: 0.6907\n",
      "Epoch 5/25\n",
      "176/176 [==============================] - 0s 2ms/step - loss: 0.1815 - accuracy: 0.6911\n",
      "Epoch 6/25\n",
      "176/176 [==============================] - 0s 2ms/step - loss: 0.1852 - accuracy: 0.6774\n",
      "Epoch 7/25\n",
      "176/176 [==============================] - 0s 2ms/step - loss: 0.1810 - accuracy: 0.6870\n",
      "Epoch 8/25\n",
      "176/176 [==============================] - 0s 2ms/step - loss: 0.1818 - accuracy: 0.6789\n",
      "Epoch 9/25\n",
      "176/176 [==============================] - 0s 2ms/step - loss: 0.1793 - accuracy: 0.6869\n",
      "Epoch 10/25\n",
      "176/176 [==============================] - 0s 2ms/step - loss: 0.1769 - accuracy: 0.6824\n",
      "Epoch 11/25\n",
      "176/176 [==============================] - 0s 2ms/step - loss: 0.1711 - accuracy: 0.7050\n",
      "Epoch 12/25\n",
      "176/176 [==============================] - 0s 2ms/step - loss: 0.1769 - accuracy: 0.6626\n",
      "Epoch 13/25\n",
      "176/176 [==============================] - 0s 2ms/step - loss: 0.1809 - accuracy: 0.6659\n",
      "Epoch 14/25\n",
      "176/176 [==============================] - 0s 1ms/step - loss: 0.1777 - accuracy: 0.6815\n",
      "Epoch 15/25\n",
      "176/176 [==============================] - 0s 1ms/step - loss: 0.1728 - accuracy: 0.6880\n",
      "Epoch 16/25\n",
      "176/176 [==============================] - 0s 2ms/step - loss: 0.1725 - accuracy: 0.6873\n",
      "Epoch 17/25\n",
      "176/176 [==============================] - 0s 2ms/step - loss: 0.1737 - accuracy: 0.6900\n",
      "Epoch 18/25\n",
      "176/176 [==============================] - 0s 2ms/step - loss: 0.1742 - accuracy: 0.7003\n",
      "Epoch 19/25\n",
      "176/176 [==============================] - 0s 2ms/step - loss: 0.1784 - accuracy: 0.6705\n",
      "Epoch 20/25\n",
      "176/176 [==============================] - 0s 2ms/step - loss: 0.1750 - accuracy: 0.6904\n",
      "Epoch 21/25\n",
      "176/176 [==============================] - 0s 2ms/step - loss: 0.1705 - accuracy: 0.6801\n",
      "Epoch 22/25\n",
      "176/176 [==============================] - 0s 2ms/step - loss: 0.1702 - accuracy: 0.6984\n",
      "Epoch 23/25\n",
      "176/176 [==============================] - 0s 1ms/step - loss: 0.1743 - accuracy: 0.6901\n",
      "Epoch 24/25\n",
      "176/176 [==============================] - 0s 2ms/step - loss: 0.1697 - accuracy: 0.7003\n",
      "Epoch 25/25\n",
      "176/176 [==============================] - 0s 2ms/step - loss: 0.1712 - accuracy: 0.6985\n"
     ]
    },
    {
     "data": {
      "text/plain": [
       "<tensorflow.python.keras.callbacks.History at 0x7f47d5dcb050>"
      ]
     },
     "execution_count": 40,
     "metadata": {},
     "output_type": "execute_result"
    }
   ],
   "source": [
    "model2.fit(x_train_encoded, y_train, batch_size=32, epochs=25, class_weight={0:0.2, 1:0.8})\n"
   ]
  },
  {
   "cell_type": "code",
   "execution_count": 41,
   "metadata": {
    "execution": {
     "iopub.execute_input": "2021-02-02T18:18:33.977909Z",
     "iopub.status.busy": "2021-02-02T18:18:33.974225Z",
     "iopub.status.idle": "2021-02-02T18:18:34.160305Z",
     "shell.execute_reply": "2021-02-02T18:18:34.160834Z"
    },
    "papermill": {
     "duration": 0.496578,
     "end_time": "2021-02-02T18:18:34.161015",
     "exception": false,
     "start_time": "2021-02-02T18:18:33.664437",
     "status": "completed"
    },
    "tags": []
   },
   "outputs": [
    {
     "name": "stdout",
     "output_type": "stream",
     "text": [
      "44/44 [==============================] - 0s 1ms/step - loss: 0.5540 - accuracy: 0.6994\n",
      "[0.5539807081222534, 0.6993603706359863]\n"
     ]
    }
   ],
   "source": [
    "score2 = model2.evaluate(x_test_encoded, y_test)\n",
    "print (score2)"
   ]
  },
  {
   "cell_type": "code",
   "execution_count": 42,
   "metadata": {
    "execution": {
     "iopub.execute_input": "2021-02-02T18:18:34.747858Z",
     "iopub.status.busy": "2021-02-02T18:18:34.746809Z",
     "iopub.status.idle": "2021-02-02T18:18:34.973225Z",
     "shell.execute_reply": "2021-02-02T18:18:34.973889Z"
    },
    "papermill": {
     "duration": 0.531555,
     "end_time": "2021-02-02T18:18:34.974084",
     "exception": false,
     "start_time": "2021-02-02T18:18:34.442529",
     "status": "completed"
    },
    "tags": []
   },
   "outputs": [],
   "source": [
    "\n",
    "train_pred_dlac=model2.predict_classes(x_train_encoded)\n",
    "test_pred_dlac=model2.predict_classes(x_test_encoded)"
   ]
  },
  {
   "cell_type": "code",
   "execution_count": 43,
   "metadata": {
    "execution": {
     "iopub.execute_input": "2021-02-02T18:18:35.543530Z",
     "iopub.status.busy": "2021-02-02T18:18:35.542596Z",
     "iopub.status.idle": "2021-02-02T18:18:35.550591Z",
     "shell.execute_reply": "2021-02-02T18:18:35.549939Z"
    },
    "papermill": {
     "duration": 0.294696,
     "end_time": "2021-02-02T18:18:35.550757",
     "exception": false,
     "start_time": "2021-02-02T18:18:35.256061",
     "status": "completed"
    },
    "tags": []
   },
   "outputs": [
    {
     "name": "stdout",
     "output_type": "stream",
     "text": [
      "[[653 362]\n",
      " [ 61 331]]\n"
     ]
    }
   ],
   "source": [
    "dlac_conf_matrix = metrics.confusion_matrix(y_test, test_pred_dlac)\n",
    "print (dlac_conf_matrix)"
   ]
  },
  {
   "cell_type": "code",
   "execution_count": 44,
   "metadata": {
    "execution": {
     "iopub.execute_input": "2021-02-02T18:18:36.123697Z",
     "iopub.status.busy": "2021-02-02T18:18:36.122683Z",
     "iopub.status.idle": "2021-02-02T18:18:36.130136Z",
     "shell.execute_reply": "2021-02-02T18:18:36.130887Z"
    },
    "papermill": {
     "duration": 0.295803,
     "end_time": "2021-02-02T18:18:36.131120",
     "exception": false,
     "start_time": "2021-02-02T18:18:35.835317",
     "status": "completed"
    },
    "tags": []
   },
   "outputs": [
    {
     "name": "stdout",
     "output_type": "stream",
     "text": [
      "Accuracy : 69.936%\n",
      "Recall : 84.439%\n"
     ]
    }
   ],
   "source": [
    "\n",
    "accuracy = metrics.accuracy_score(y_test,test_pred_dlac)\n",
    "    \n",
    "print (\"Accuracy : %s\" % \"{0:.3%}\".format(accuracy))\n",
    "\n",
    "#Print Recall\n",
    "recall = metrics.recall_score(y_test,test_pred_dlac)\n",
    "    \n",
    "print (\"Recall : %s\" % \"{0:.3%}\".format(recall))"
   ]
  }
 ],
 "metadata": {
  "kernelspec": {
   "display_name": "Python 3",
   "language": "python",
   "name": "python3"
  },
  "language_info": {
   "codemirror_mode": {
    "name": "ipython",
    "version": 3
   },
   "file_extension": ".py",
   "mimetype": "text/x-python",
   "name": "python",
   "nbconvert_exporter": "python",
   "pygments_lexer": "ipython3",
   "version": "3.7.9"
  },
  "papermill": {
   "default_parameters": {},
   "duration": 68.104265,
   "end_time": "2021-02-02T18:18:37.625957",
   "environment_variables": {},
   "exception": null,
   "input_path": "__notebook__.ipynb",
   "output_path": "__notebook__.ipynb",
   "parameters": {},
   "start_time": "2021-02-02T18:17:29.521692",
   "version": "2.2.2"
  }
 },
 "nbformat": 4,
 "nbformat_minor": 4
}
